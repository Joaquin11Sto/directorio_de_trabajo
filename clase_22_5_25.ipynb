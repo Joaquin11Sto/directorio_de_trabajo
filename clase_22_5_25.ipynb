{
 "cells": [
  {
   "cell_type": "code",
   "execution_count": null,
   "id": "29078bcf",
   "metadata": {},
   "outputs": [],
   "source": [
    "import sympy as sp\n",
    "import numpy as np\n",
    "import scipy.signal as sig\n",
    "import matplotlib.pyplot as plt\n",
    "\n",
    "# Gráficos interactivos\n",
    "#%matplotlib ipympl\n",
    "# Gráficos estáticos\n",
    "#%matplotlib inline\n",
    "\n",
    "from pytc2.sistemas_lineales import plot_plantilla\n",
    "\n"
   ]
  }
 ],
 "metadata": {
  "kernelspec": {
   "display_name": "EntornoGit",
   "language": "python",
   "name": "python3"
  },
  "language_info": {
   "name": "python",
   "version": "3.12.9"
  }
 },
 "nbformat": 4,
 "nbformat_minor": 5
}
